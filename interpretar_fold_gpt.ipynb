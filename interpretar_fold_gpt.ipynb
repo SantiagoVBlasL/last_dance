{
 "cells": [
  {
   "cell_type": "code",
   "execution_count": 1,
   "id": "eac93103",
   "metadata": {},
   "outputs": [
    {
     "name": "stdout",
     "output_type": "stream",
     "text": [
      "[INFO] [SHAP] fold=1 clf=xgb\n",
      "[INFO] [SHAP] Cargando datos de background CRUDOS desde: shap_background_raw_xgb.joblib\n",
      "[INFO] [SHAP] X_raw shape=(37, 259) (latentes + 3 metadatos)\n",
      "[INFO] [SHAP] Background DataFrame detectado pero columnas no coinciden; transformando…\n",
      "[INFO] [SHAP] Pack guardado: resultados31/fold_1/interpretability_shap/shap_pack_xgb.joblib\n"
     ]
    }
   ],
   "source": [
    "!python interpretar_fold_gpt.py shap \\\n",
    "  --run_dir ./resultados31 \\\n",
    "  --fold 1 \\\n",
    "  --clf xgb \\\n",
    "  --global_tensor_path /home/diego/Escritorio/limpio/AAL3_dynamicROIs_fmri_tensor_NeuroEnhanced_v6.5.17_AAL3_131ROIs_OMST_GCE_Signed_GrangerLag1_ChNorm_ROIreorderedYeo17_ParallelTuned/GLOBAL_TENSOR_from_AAL3_dynamicROIs_fmri_tensor_NeuroEnhanced_v6.5.17_AAL3_131ROIs_OMST_GCE_Signed_GrangerLag1_ChNorm_ROIreorderedYeo17_ParallelTuned.npz \\\n",
    "  --metadata_path /home/diego/Escritorio/limpio/SubjectsData_AAL3_procesado2.csv \\\n",
    "  --channels_to_use 1 2 4 5 \\\n",
    "  --latent_dim 256 --latent_features_type mu \\\n",
    "  --metadata_features Age Sex Manufacturer \\\n",
    "  --num_conv_layers_encoder 4 --decoder_type convtranspose \\\n",
    "  --dropout_rate_vae 0.25 --use_layernorm_vae_fc \\\n",
    "  --intermediate_fc_dim_vae half --vae_final_activation linear \\\n",
    "  --gn_num_groups 16"
   ]
  },
  {
   "cell_type": "code",
   "execution_count": 2,
   "id": "c1185f8a",
   "metadata": {},
   "outputs": [
    {
     "name": "stdout",
     "output_type": "stream",
     "text": [
      "[INFO] [SALIENCY] fold=1 clf=xgb  (pack cargado: shap_pack_xgb.joblib)\n",
      "[INFO] Usando ROI order de resultados31/roi_order_131.joblib.\n",
      "[INFO] Cargado fichero de anotaciones: /home/diego/Escritorio/limpio/roi_info_master.csv\n",
      "[INFO] [SALIENCY] 50 latentes ponderadas. Ejemplo:\n",
      " latent_idx    weight  importance            feature\n",
      "        214  0.075469    0.102751 latent__latent_214\n",
      "         88 -0.053446   -0.072766  latent__latent_88\n",
      "        187  0.050443    0.068678 latent__latent_187\n",
      "        149  0.049114    0.066869 latent__latent_149\n",
      "         30  0.046955    0.063929  latent__latent_30\n",
      "[INFO] [SALIENCY] Sujetos AD=19  CN=18\n",
      "[INFO] [SALIENCY] Ranking de conexiones ANOTADO guardado: resultados31/fold_1/interpretability_xgb/ranking_conexiones_ANOTADO_top50.csv\n",
      "[INFO] Top 20 conexiones anotadas:\n",
      "      Rank src_AAL3_Name dst_AAL3_Name  Saliency_Score          src_Refined_Network          dst_Refined_Network\n",
      "2898     1       OFCMEDL       HESCHLR        0.000082                 Limbic_B_OFC                Somatomotor_B\n",
      "3107     2       OFCANTL       HESCHLR        0.000078                 Limbic_B_OFC                Somatomotor_B\n",
      "4342     3        HIPPOR           O2R       -0.000075            Limbic_A_TempPole            Visual_Peripheral\n",
      "6247     4           P2R           NLL       -0.000073                    Control_B       Background/NonCortical\n",
      "2301     5           FMR           GRL       -0.000072     DefaultMode_DorsalMedial                 Limbic_B_OFC\n",
      "6953     6           NLL        VER4_5        0.000071       Background/NonCortical               Visual_Central\n",
      "2075     7          COBR           FMR       -0.000068                 Limbic_B_OFC     DefaultMode_DorsalMedial\n",
      "2829     8           GRR          tVLR       -0.000068                 Limbic_B_OFC       Background/NonCortical\n",
      "2684     9           GRL       HESCHLL        0.000068                 Limbic_B_OFC                Somatomotor_B\n",
      "2363    10           FMR           T2L       -0.000066     DefaultMode_DorsalMedial    DefaultMode_VentralMedial\n",
      "3991    11         CINMR           NCL        0.000065  Salience_VentralAttention_A                 Limbic_B_OFC\n",
      "2573    12          FMOR           NLR        0.000065     DefaultMode_DorsalMedial  Salience_VentralAttention_A\n",
      "2253    13           FML           T2R       -0.000064    DefaultMode_VentralMedial            DorsalAttention_A\n",
      "1914    14          SMAR           T2R       -0.000064                Somatomotor_A            DorsalAttention_A\n",
      "3415    15      OFCPOSTR           T1R        0.000064                 Limbic_B_OFC             DefaultMode_Temp\n",
      "6061    16           P1L      CERCRU2L       -0.000062            DorsalAttention_A                   Cerebellum\n",
      "2531    17          FMOR           INR        0.000061     DefaultMode_DorsalMedial  Salience_VentralAttention_A\n",
      "2752    18           GRR        HIPPOR        0.000061                 Limbic_B_OFC            Limbic_A_TempPole\n",
      "3898    19         CINML           NLL        0.000061  Salience_VentralAttention_A       Background/NonCortical\n",
      "3447    20      OFCPOSTR          VER9       -0.000061                 Limbic_B_OFC       Background/NonCortical\n",
      "[INFO] [SALIENCY] Completo. Resultados en resultados31/fold_1/interpretability_xgb\n"
     ]
    }
   ],
   "source": [
    "!python interpretar_fold_gpt.py saliency \\\n",
    "  --run_dir ./resultados31 --fold 1 --clf xgb \\\n",
    "  --global_tensor_path /home/diego/Escritorio/limpio/AAL3_dynamicROIs_fmri_tensor_NeuroEnhanced_v6.5.17_AAL3_131ROIs_OMST_GCE_Signed_GrangerLag1_ChNorm_ROIreorderedYeo17_ParallelTuned/GLOBAL_TENSOR_from_AAL3_dynamicROIs_fmri_tensor_NeuroEnhanced_v6.5.17_AAL3_131ROIs_OMST_GCE_Signed_GrangerLag1_ChNorm_ROIreorderedYeo17_ParallelTuned.npz \\\n",
    "  --metadata_path /home/diego/Escritorio/limpio/SubjectsData_AAL3_procesado2.csv \\\n",
    "  --roi_order_path /home/diego/Escritorio/limpio/roi_order_131.npy \\\n",
    "  --roi_annotation_path /home/diego/Escritorio/limpio/roi_info_master.csv \\\n",
    "  --channels_to_use 1 2 4 5 \\\n",
    "  --intermediate_fc_dim_vae half \\\n",
    "  --use_layernorm_vae_fc \\\n",
    "  --latent_dim 256 --top_k 50 \\\n",
    "  --shap_weight_mode ad_vs_cn_diff\n"
   ]
  }
 ],
 "metadata": {
  "kernelspec": {
   "display_name": "serentipia_gpu",
   "language": "python",
   "name": "python3"
  },
  "language_info": {
   "codemirror_mode": {
    "name": "ipython",
    "version": 3
   },
   "file_extension": ".py",
   "mimetype": "text/x-python",
   "name": "python",
   "nbconvert_exporter": "python",
   "pygments_lexer": "ipython3",
   "version": "3.10.18"
  }
 },
 "nbformat": 4,
 "nbformat_minor": 5
}
