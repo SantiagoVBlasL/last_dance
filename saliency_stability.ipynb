{
 "cells": [
  {
   "cell_type": "code",
   "execution_count": 1,
   "id": "be7bee47",
   "metadata": {},
   "outputs": [
    {
     "name": "stdout",
     "output_type": "stream",
     "text": [
      "Usando dispositivo: cuda\n",
      "Cargando datos globales...\n",
      "Datos cargados.\n",
      "▶ Procesando fold_1\n",
      "  Cargando artefactos para el fold número 1...\n",
      "/home/diego/Escritorio/limpio/saliency_stability.py:147: FutureWarning: You are using `torch.load` with `weights_only=False` (the current default value), which uses the default pickle module implicitly. It is possible to construct malicious pickle data which will execute arbitrary code during unpickling (See https://github.com/pytorch/pytorch/blob/main/SECURITY.md#untrusted-models for more details). In a future release, the default value for `weights_only` will be flipped to `True`. This limits the functions that could be executed during unpickling. Arbitrary objects will no longer be allowed to be loaded via this mode unless they are explicitly allowlisted by the user via `torch.serialization.add_safe_globals`. We recommend you start setting `weights_only=True` for any use case where you don't have full control of the loaded file. Please open an issue on GitHub for any issues related to this experimental feature.\n",
      "  vae_state_dict = torch.load(vae_path, map_location=device)\n",
      "  Artefactos para el fold 1 cargados.\n",
      "Saliencia fold_1: 100%|█████████████████████████| 37/37 [00:00<00:00, 45.63it/s]\n",
      "▶ Procesando fold_2\n",
      "  Cargando artefactos para el fold número 2...\n",
      "/home/diego/Escritorio/limpio/saliency_stability.py:147: FutureWarning: You are using `torch.load` with `weights_only=False` (the current default value), which uses the default pickle module implicitly. It is possible to construct malicious pickle data which will execute arbitrary code during unpickling (See https://github.com/pytorch/pytorch/blob/main/SECURITY.md#untrusted-models for more details). In a future release, the default value for `weights_only` will be flipped to `True`. This limits the functions that could be executed during unpickling. Arbitrary objects will no longer be allowed to be loaded via this mode unless they are explicitly allowlisted by the user via `torch.serialization.add_safe_globals`. We recommend you start setting `weights_only=True` for any use case where you don't have full control of the loaded file. Please open an issue on GitHub for any issues related to this experimental feature.\n",
      "  vae_state_dict = torch.load(vae_path, map_location=device)\n",
      "  Artefactos para el fold 2 cargados.\n",
      "Saliencia fold_2: 100%|█████████████████████████| 37/37 [00:00<00:00, 77.73it/s]\n",
      "▶ Procesando fold_3\n",
      "  Cargando artefactos para el fold número 3...\n",
      "  Artefactos para el fold 3 cargados.\n",
      "Saliencia fold_3: 100%|█████████████████████████| 37/37 [00:00<00:00, 77.14it/s]\n",
      "▶ Procesando fold_4\n",
      "  Cargando artefactos para el fold número 4...\n",
      "  Artefactos para el fold 4 cargados.\n",
      "Saliencia fold_4: 100%|█████████████████████████| 37/37 [00:00<00:00, 76.75it/s]\n",
      "▶ Procesando fold_5\n",
      "  Cargando artefactos para el fold número 5...\n",
      "  Artefactos para el fold 5 cargados.\n",
      "Saliencia fold_5: 100%|█████████████████████████| 36/36 [00:00<00:00, 76.79it/s]\n",
      "\n",
      "Calculando concordancia de rankings entre folds...\n",
      "✅ Matriz de concordancia y heatmap guardados.\n",
      "Figure(800x600)\n"
     ]
    }
   ],
   "source": [
    "!python saliency_stability.py \\\n",
    "  --root ./resultados_12_inter \\\n",
    "  --tensor /home/diego/Escritorio/limpio/AAL3_dynamicROIs_fmri_tensor_NeuroEnhanced_v6.5.17_AAL3_131ROIs_OMST_GCE_Signed_GrangerLag1_ChNorm_ROIreorderedYeo17_ParallelTuned/GLOBAL_TENSOR_from_AAL3_dynamicROIs_fmri_tensor_NeuroEnhanced_v6.5.17_AAL3_131ROIs_OMST_GCE_Signed_GrangerLag1_ChNorm_ROIreorderedYeo17_ParallelTuned.npz \\\n",
    "  --metadata /home/diego/Escritorio/limpio/SubjectsData_AAL3_procesado.csv \\\n",
    "  --roi_order ./resultados_12_inter/roi_order_131.joblib \\\n",
    "  --channels 1 2 5\n"
   ]
  }
 ],
 "metadata": {
  "kernelspec": {
   "display_name": "rapids118",
   "language": "python",
   "name": "python3"
  },
  "language_info": {
   "codemirror_mode": {
    "name": "ipython",
    "version": 3
   },
   "file_extension": ".py",
   "mimetype": "text/x-python",
   "name": "python",
   "nbconvert_exporter": "python",
   "pygments_lexer": "ipython3",
   "version": "3.10.18"
  }
 },
 "nbformat": 4,
 "nbformat_minor": 5
}
